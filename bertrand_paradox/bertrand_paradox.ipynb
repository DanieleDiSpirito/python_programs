{
 "cells": [
  {
   "cell_type": "code",
   "execution_count": 1,
   "id": "69f8e349",
   "metadata": {},
   "outputs": [],
   "source": [
    "# Simulate 2 points in the circle with random angles\n",
    "from random import random\n",
    "from math import pi as PI, sin, cos"
   ]
  },
  {
   "cell_type": "code",
   "execution_count": 26,
   "id": "668404f5",
   "metadata": {},
   "outputs": [],
   "source": [
    "random_angle = lambda: random() * 2 * PI\n",
    "\n",
    "def distance(x1: float, y1: float, x2: float, y2: float) -> float:\n",
    "    return ((x1 - x2) ** 2 + (y1 - y2) ** 2) ** 0.5\n",
    "\n",
    "def is_more_than_sqrt3(distance: float) -> bool:\n",
    "    return distance > (3 ** 0.5)"
   ]
  },
  {
   "cell_type": "markdown",
   "id": "9ea31e7f",
   "metadata": {},
   "source": [
    "![alt text](example_image.png)"
   ]
  },
  {
   "cell_type": "markdown",
   "id": "e0870971",
   "metadata": {},
   "source": [
    "## Simulation #1\n",
    "\n",
    "Generate $2$ points using polar coordinates."
   ]
  },
  {
   "cell_type": "code",
   "execution_count": 76,
   "id": "38703f25",
   "metadata": {},
   "outputs": [
    {
     "name": "stdout",
     "output_type": "stream",
     "text": [
      "Probability that the distance is more than sqrt(3): 0.3333\n"
     ]
    }
   ],
   "source": [
    "TOTAL_SIMULATIONS = 1_000_000\n",
    "good = 0\n",
    "\n",
    "for _ in range(TOTAL_SIMULATIONS):\n",
    "    angle1 = random_angle()\n",
    "    angle2 = random_angle()\n",
    "    x1 = cos(angle1)\n",
    "    y1 = sin(angle1)\n",
    "    x2 = cos(angle2)\n",
    "    y2 = sin(angle2)\n",
    "    L = distance(x1, y1, x2, y2)\n",
    "    good += is_more_than_sqrt3(L)\n",
    "\n",
    "print(f\"Probability that the distance is more than sqrt(3): {good / TOTAL_SIMULATIONS:.4f}\")"
   ]
  },
  {
   "cell_type": "markdown",
   "id": "c7812bab",
   "metadata": {},
   "source": [
    "$\\mathbb{P} (\\{L \\geq \\sqrt{3}\\}) = \\frac{1}{3} $"
   ]
  },
  {
   "cell_type": "markdown",
   "id": "76ab14f3",
   "metadata": {},
   "source": [
    "## Simulation #2\n",
    "\n",
    "Generate a random angle. This is the angle of the line that passes through the center of the circle and is orthogonal to the chord of the circle.\n",
    "if the point is above the base of an equilateral triangle and below the base of the same triangle but inverted with its vertex at the same point where the line intersects the circle (so between $0.5$ and $1.5$) the chord is bigger than $\\sqrt{3}$."
   ]
  },
  {
   "cell_type": "code",
   "execution_count": 71,
   "id": "e0a4af6b",
   "metadata": {},
   "outputs": [
    {
     "name": "stdout",
     "output_type": "stream",
     "text": [
      "Probability that the distance is more than sqrt(3): 0.5000\n"
     ]
    }
   ],
   "source": [
    "TOTAL_SIMULATIONS = 1_000_000\n",
    "good = 0\n",
    "\n",
    "for _ in range(TOTAL_SIMULATIONS):\n",
    "    line_angle = random_angle()\n",
    "    random_point = random() * 2 # random point on the diameter of the circle\n",
    "    if 0.5 < random_point < 1.5:\n",
    "        good += 1\n",
    "\n",
    "print(f\"Probability that the distance is more than sqrt(3): {good / TOTAL_SIMULATIONS:.4f}\")"
   ]
  },
  {
   "cell_type": "markdown",
   "id": "ac7228d8",
   "metadata": {},
   "source": [
    "$\\mathbb{P} (\\{L \\geq \\sqrt{3}\\}) = \\frac{1}{2} $"
   ]
  },
  {
   "cell_type": "markdown",
   "id": "a90d4b42",
   "metadata": {},
   "source": [
    "## Simulation #3\n",
    "\n",
    "Generate a point with polar coordinates. If the point is inside the circle inscribed in the equilateral triangle inscribed the unit cicle the chord is bigger than $\\sqrt{3}$."
   ]
  },
  {
   "cell_type": "code",
   "execution_count": 95,
   "id": "4f3d7ed5",
   "metadata": {},
   "outputs": [
    {
     "name": "stdout",
     "output_type": "stream",
     "text": [
      "Probability that the distance is more than sqrt(3): 0.5000\n"
     ]
    }
   ],
   "source": [
    "TOTAL_SIMULATIONS = 1_000_000\n",
    "good = 0\n",
    "\n",
    "for _ in range(TOTAL_SIMULATIONS):\n",
    "    angle = random_angle()\n",
    "    mod = random()\n",
    "    x = mod * cos(angle)\n",
    "    y = mod * sin(angle)\n",
    "    if (x ** 2 + y ** 2) < (1 / 4):\n",
    "        good += 1\n",
    "\n",
    "print(f\"Probability that the distance is more than sqrt(3): {good / TOTAL_SIMULATIONS:.4f}\")"
   ]
  },
  {
   "cell_type": "markdown",
   "id": "bc84e77b",
   "metadata": {},
   "source": [
    "$\\mathbb{P} (\\{L \\geq \\sqrt{3}\\}) = \\frac{1}{2} $"
   ]
  },
  {
   "cell_type": "markdown",
   "id": "468b27bd",
   "metadata": {},
   "source": [
    "## Simulation #4\n",
    "\n",
    "Generate a point with cartesian coordinates. If the point is inside the circle inscribed in the equilateral triangle inscribed the unit cicle the chord is bigger than $\\sqrt{3}$."
   ]
  },
  {
   "cell_type": "code",
   "execution_count": 103,
   "id": "f5b08567",
   "metadata": {},
   "outputs": [
    {
     "name": "stdout",
     "output_type": "stream",
     "text": [
      "Probability that the distance is more than sqrt(3): 0.2500\n"
     ]
    }
   ],
   "source": [
    "TOTAL_SIMULATIONS = 1_000_000\n",
    "good = 0\n",
    "\n",
    "attempts = 0\n",
    "\n",
    "while attempts != TOTAL_SIMULATIONS:\n",
    "    x = random() * 2 - 1  # x in [-1, 1]\n",
    "    y = random() * 2 - 1  # y in [-1, 1]\n",
    "    mod = (x ** 2 + y ** 2) ** 0.5\n",
    "    if mod > 1:\n",
    "        continue\n",
    "    if (x ** 2 + y ** 2) < (1 / 4):\n",
    "        good += 1\n",
    "    attempts += 1\n",
    "\n",
    "print(f\"Probability that the distance is more than sqrt(3): {good / TOTAL_SIMULATIONS:.4f}\")"
   ]
  },
  {
   "cell_type": "markdown",
   "id": "75161217",
   "metadata": {},
   "source": [
    "$\\mathbb{P} (\\{L \\geq \\sqrt{3}\\}) = \\frac{1}{4} $"
   ]
  }
 ],
 "metadata": {
  "kernelspec": {
   "display_name": "Python 3",
   "language": "python",
   "name": "python3"
  },
  "language_info": {
   "codemirror_mode": {
    "name": "ipython",
    "version": 3
   },
   "file_extension": ".py",
   "mimetype": "text/x-python",
   "name": "python",
   "nbconvert_exporter": "python",
   "pygments_lexer": "ipython3",
   "version": "3.10.6"
  }
 },
 "nbformat": 4,
 "nbformat_minor": 5
}
